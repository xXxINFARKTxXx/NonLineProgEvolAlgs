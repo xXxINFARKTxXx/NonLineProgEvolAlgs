{
 "cells": [
  {
   "cell_type": "code",
   "execution_count": 2,
   "metadata": {},
   "outputs": [],
   "source": [
    "from scipy.optimize import linprog"
   ]
  },
  {
   "cell_type": "markdown",
   "metadata": {},
   "source": [
    "1. **Задача оптимизации с использованием метода симплекса:**\n",
    "\n",
    "Минимизировать функцию:\n",
    "$$ y = x_1 + 2x_2 $$\n",
    "при условиях:\n",
    "$$ -x_1 + 2x_2 \\leq 6 $$\n",
    "$$ x_1 + x_2 \\geq 4 $$\n",
    "$$ x_2 \\geq 2 $$\n",
    "$$ x_1, x_2 \\geq 0 $$"
   ]
  },
  {
   "cell_type": "code",
   "execution_count": 3,
   "metadata": {},
   "outputs": [
    {
     "name": "stdout",
     "output_type": "stream",
     "text": [
      "        message: Optimization terminated successfully. (HiGHS Status 7: Optimal)\n",
      "        success: True\n",
      "         status: 0\n",
      "            fun: 6.0\n",
      "              x: [ 2.000e+00  2.000e+00]\n",
      "            nit: 0\n",
      "          lower:  residual: [ 2.000e+00  2.000e+00]\n",
      "                 marginals: [ 0.000e+00  0.000e+00]\n",
      "          upper:  residual: [       inf        inf]\n",
      "                 marginals: [ 0.000e+00  0.000e+00]\n",
      "          eqlin:  residual: []\n",
      "                 marginals: []\n",
      "        ineqlin:  residual: [ 4.000e+00  0.000e+00  0.000e+00]\n",
      "                 marginals: [-0.000e+00 -1.000e+00 -1.000e+00]\n",
      " mip_node_count: 0\n",
      " mip_dual_bound: 0.0\n",
      "        mip_gap: 0.0\n"
     ]
    }
   ],
   "source": [
    "# 1.zadatak\n",
    "\n",
    "c = [1,2]\n",
    "A_ub = [[-1,2],[-1,-1],[0,-1]]\n",
    "b_ub = [6,-4,-2]\n",
    "\n",
    "rez = linprog(c, A_ub, b_ub)\n",
    "print(rez)"
   ]
  },
  {
   "cell_type": "markdown",
   "metadata": {},
   "source": [
    "2. **Производство нефтеперерабатывающей компании:**\n",
    "\n",
    "Компания имеет два нефтеперерабатывающих завода. Старший может производить 400 баррелей высококачественного масла, 300 баррелей масла среднего качества и 200 баррелей масла низкого качества. Расходы на работу этого завода составляют 20000 в день. Второй, более новый завод, может производить 300 баррелей высококачественного, 400 баррелей масла среднего качества и 500 баррелей масла низкого качества ежедневно. Расходы на работу составляют 25000 в день. Заказано в общей сложности 25000 баррелей высококачественного масла, 27000 баррелей масла среднего качества и 30000 баррелей масла низкого качества. Сколько дней каждому заводу следует работать, чтобы расходы на производство были минимальными, а заказы были выполнены?"
   ]
  },
  {
   "cell_type": "code",
   "execution_count": 4,
   "metadata": {},
   "outputs": [
    {
     "name": "stdout",
     "output_type": "stream",
     "text": [
      "        message: Optimization terminated successfully. (HiGHS Status 7: Optimal)\n",
      "        success: True\n",
      "         status: 0\n",
      "            fun: 1750000.0\n",
      "              x: [ 2.500e+01  5.000e+01]\n",
      "            nit: 2\n",
      "          lower:  residual: [ 2.500e+01  5.000e+01]\n",
      "                 marginals: [ 0.000e+00  0.000e+00]\n",
      "          upper:  residual: [       inf        inf]\n",
      "                 marginals: [ 0.000e+00  0.000e+00]\n",
      "          eqlin:  residual: []\n",
      "                 marginals: []\n",
      "        ineqlin:  residual: [ 0.000e+00  5.000e+02  0.000e+00]\n",
      "                 marginals: [-3.571e+01 -0.000e+00 -2.857e+01]\n",
      " mip_node_count: 0\n",
      " mip_dual_bound: 0.0\n",
      "        mip_gap: 0.0\n"
     ]
    }
   ],
   "source": [
    "# 2.zadatak\n",
    "\n",
    "c = [20000,25000]\n",
    "A_ub = [[-400,-300],[-300,-400],[-200,-500]]\n",
    "b_ub = [-25000,-27000,-30000]\n",
    "\n",
    "rez = linprog(c, A_ub, b_ub)\n",
    "print(rez)"
   ]
  },
  {
   "cell_type": "markdown",
   "metadata": {},
   "source": [
    "3. **Производство пищевых продуктов:**\n",
    "\n",
    "Фабрика производит три вида продукции: ветчину, колбасу и сосиски. Максимальные дневные возможности для этих продуктов - 480 кг, 400 кг и 230 кг соответственно. Продукцию можно продать свежей, копченой и усиленно копченой. Чистая прибыль за кг представлена в следующей таблице. Возможности для копчения - 420 кг в день, а для усиленного копчения - 250 кг в день. Определите количество продукции, обеспечивающее максимальную чистую прибыль.\n",
    "\n",
    "$$\n",
    "\\begin{array}{|c|c|c|c|}\n",
    "\\hline\n",
    " & \\text{Свежее} & \\text{Копченое} & \\text{Усиленно копченое} \\\\\n",
    "\\hline\n",
    "\\text{Ветчина} & 8 & 14 & 11 \\\\\n",
    "\\hline\n",
    "\\text{Колбаса} & 4 & 12 & 7 \\\\\n",
    "\\hline\n",
    "\\text{Сосиски} & 4 & 13 & 9 \\\\\n",
    "\\hline\n",
    "\\end{array}\n",
    "$$"
   ]
  },
  {
   "cell_type": "code",
   "execution_count": 5,
   "metadata": {},
   "outputs": [
    {
     "name": "stdout",
     "output_type": "stream",
     "text": [
      "        message: Optimization terminated successfully. (HiGHS Status 7: Optimal)\n",
      "        success: True\n",
      "         status: 0\n",
      "            fun: -10910.0\n",
      "              x: [ 4.400e+02  0.000e+00  4.000e+01  0.000e+00  4.000e+02\n",
      "                   0.000e+00  0.000e+00  2.000e+01  2.100e+02]\n",
      "            nit: 10\n",
      "          lower:  residual: [ 4.400e+02  0.000e+00  4.000e+01  0.000e+00\n",
      "                              4.000e+02  0.000e+00  0.000e+00  2.000e+01\n",
      "                              2.100e+02]\n",
      "                 marginals: [ 0.000e+00  1.000e+00  0.000e+00  1.000e+00\n",
      "                              0.000e+00  1.000e+00  2.000e+00  0.000e+00\n",
      "                              0.000e+00]\n",
      "          upper:  residual: [       inf        inf        inf        inf\n",
      "                                    inf        inf        inf        inf\n",
      "                                    inf]\n",
      "                 marginals: [ 0.000e+00  0.000e+00  0.000e+00  0.000e+00\n",
      "                              0.000e+00  0.000e+00  0.000e+00  0.000e+00\n",
      "                              0.000e+00]\n",
      "          eqlin:  residual: []\n",
      "                 marginals: []\n",
      "        ineqlin:  residual: [ 0.000e+00  0.000e+00  0.000e+00  0.000e+00\n",
      "                              0.000e+00]\n",
      "                 marginals: [-8.000e+00 -5.000e+00 -6.000e+00 -7.000e+00\n",
      "                             -3.000e+00]\n",
      " mip_node_count: 0\n",
      " mip_dual_bound: 0.0\n",
      "        mip_gap: 0.0\n"
     ]
    }
   ],
   "source": [
    "# 3.zadatak\n",
    "\n",
    "c = [-8,-14,-11,-4,-12,-7,-4,-13,-9]\n",
    "A_ub = [[1,1,1,0,0,0,0,0,0],[0,0,0,1,1,1,0,0,0],[0,0,0,0,0,0,1,1,1],[0,1,0,0,1,0,0,1,0],[0,0,1,0,0,1,0,0,1]]\n",
    "b_ub = [480,400,230,420,250]\n",
    "\n",
    "rez = linprog(c, A_ub, b_ub)\n",
    "print(rez)"
   ]
  },
  {
   "cell_type": "markdown",
   "metadata": {},
   "source": [
    "4. **Задача оптимизации с использованием метода симплекса:**\n",
    "\n",
    "Максимизировать функцию:\n",
    "$$ y = 5x_1 + 4x_2 + 3x_3 $$\n",
    "при условиях:\n",
    "$$ 2x_1 + 3x_2 + x_3 \\leq 5 $$\n",
    "$$ 4x_1 + x_2 + 2x_3 \\leq 11 $$\n",
    "$$ 3x_1 + 4x_2 + 2x_3 \\leq 8 $$\n",
    "$$ x_1, x_2, x_3 \\geq 0 $$"
   ]
  },
  {
   "cell_type": "code",
   "execution_count": 6,
   "metadata": {},
   "outputs": [
    {
     "name": "stdout",
     "output_type": "stream",
     "text": [
      "        message: Optimization terminated successfully. (HiGHS Status 7: Optimal)\n",
      "        success: True\n",
      "         status: 0\n",
      "            fun: -13.0\n",
      "              x: [ 2.000e+00  0.000e+00  1.000e+00]\n",
      "            nit: 2\n",
      "          lower:  residual: [ 2.000e+00  0.000e+00  1.000e+00]\n",
      "                 marginals: [ 0.000e+00  3.000e+00  0.000e+00]\n",
      "          upper:  residual: [       inf        inf        inf]\n",
      "                 marginals: [ 0.000e+00  0.000e+00  0.000e+00]\n",
      "          eqlin:  residual: []\n",
      "                 marginals: []\n",
      "        ineqlin:  residual: [ 0.000e+00  1.000e+00  0.000e+00]\n",
      "                 marginals: [-1.000e+00 -0.000e+00 -1.000e+00]\n",
      " mip_node_count: 0\n",
      " mip_dual_bound: 0.0\n",
      "        mip_gap: 0.0\n"
     ]
    }
   ],
   "source": [
    "# 4.zadatak\n",
    "\n",
    "c = [-5,-4,-3]\n",
    "A_ub = [[2,3,1],[4,1,2],[3,4,2]]\n",
    "b_ub = [5,11,8]\n",
    "\n",
    "rez = linprog(c, A_ub, b_ub)\n",
    "print(rez)"
   ]
  }
 ],
 "metadata": {
  "kernelspec": {
   "display_name": "Python 3",
   "language": "python",
   "name": "python3"
  },
  "language_info": {
   "codemirror_mode": {
    "name": "ipython",
    "version": 3
   },
   "file_extension": ".py",
   "mimetype": "text/x-python",
   "name": "python",
   "nbconvert_exporter": "python",
   "pygments_lexer": "ipython3",
   "version": "3.11.6"
  }
 },
 "nbformat": 4,
 "nbformat_minor": 2
}
